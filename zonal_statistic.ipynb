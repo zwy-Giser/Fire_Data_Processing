{
 "cells": [
  {
   "cell_type": "code",
   "execution_count": null,
   "metadata": {},
   "outputs": [],
   "source": [
    "import geopandas as gpd\n",
    "import pandas as pd\n",
    "import math\n",
    "import numpy as np\n",
    "\n",
    "counties = gpd.read_file(\"/Users/zwy/Library/CloudStorage/Dropbox/work files/Policy impact on fire/county_cities_filtered(interaction).gpkg\")\n",
    "counties = counties.to_crs(epsg='4326')\n",
    "counties.info()"
   ]
  },
  {
   "cell_type": "code",
   "execution_count": null,
   "metadata": {},
   "outputs": [],
   "source": [
    "data_year = 2017\n",
    "fire_df = pd.read_csv(\"/Users/zwy/Library/CloudStorage/Dropbox/work files/Policy impact on fire/VIIRS_{}_clipped.csv\".format(data_year))\n",
    "fire_df.info()\n",
    "geometry =gpd.GeoSeries.from_wkt(fire_df[\"geometry\"])\n",
    "fire_points = gpd.GeoDataFrame(\n",
    "    fire_df[[\"id\", \"date\", \"time\", \"brightness\", \"confidence\"]], geometry=geometry\n",
    ")"
   ]
  },
  {
   "cell_type": "code",
   "execution_count": null,
   "metadata": {},
   "outputs": [],
   "source": [
    "# 如果使用inner merge，会忽略无数据的行\n",
    "counties_with_fire=counties.merge(\n",
    "\t\tcounties.sjoin(\n",
    "\t\t\tfire_points\n",
    "\t\t).groupby(\n",
    "\t\t\t'AD2004'\n",
    "\t\t)['AD2004'].count().rename(\n",
    "\t\t\t'fire'\n",
    "\t\t).reset_index(), on='AD2004', how='left'\n",
    "\t)\n",
    "\n",
    "counties_with_fire.loc[:,\"n_points\"].replace(np.nan, 0, inplace=True)\n",
    "counties_with_fire.info()"
   ]
  },
  {
   "cell_type": "code",
   "execution_count": null,
   "metadata": {},
   "outputs": [],
   "source": [
    "# Save the result (.shp)\n",
    "counties_with_fire.to_file(\"/Users/zwy/Library/CloudStorage/Dropbox/work files/Policy impact on fire/counties_with_fire_{}\".format(data_year),encoding='gbk')"
   ]
  }
 ],
 "metadata": {
  "language_info": {
   "name": "python"
  },
  "orig_nbformat": 4
 },
 "nbformat": 4,
 "nbformat_minor": 2
}
