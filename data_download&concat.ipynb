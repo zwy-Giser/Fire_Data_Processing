{
 "cells": [
  {
   "attachments": {},
   "cell_type": "markdown",
   "metadata": {},
   "source": [
    "# Concat data and save to csv"
   ]
  },
  {
   "cell_type": "markdown",
   "metadata": {},
   "source": []
  },
  {
   "cell_type": "code",
   "execution_count": 1,
   "metadata": {},
   "outputs": [],
   "source": [
    "import pandas as pd\n",
    "import os\n",
    "import copy\n",
    "import geopandas as gpd"
   ]
  },
  {
   "cell_type": "code",
   "execution_count": 2,
   "metadata": {},
   "outputs": [
    {
     "name": "stdout",
     "output_type": "stream",
     "text": [
      "viirs_m20173.csv\n",
      "223524\n",
      "viirs_m20172.csv\n",
      "152828\n"
     ]
    },
    {
     "name": "stderr",
     "output_type": "stream",
     "text": [
      "/var/folders/lx/48nrsg4n38b36nwmsqwzzqxh0000gn/T/ipykernel_14519/627052007.py:10: ParserWarning: Length of header or names does not match length of data. This leads to a loss of data with index_col=False.\n",
      "  data = pd.read_csv(os.path.join(root, file),index_col=False)\n",
      "/var/folders/lx/48nrsg4n38b36nwmsqwzzqxh0000gn/T/ipykernel_14519/627052007.py:10: ParserWarning: Length of header or names does not match length of data. This leads to a loss of data with index_col=False.\n",
      "  data = pd.read_csv(os.path.join(root, file),index_col=False)\n",
      "/var/folders/lx/48nrsg4n38b36nwmsqwzzqxh0000gn/T/ipykernel_14519/627052007.py:10: ParserWarning: Length of header or names does not match length of data. This leads to a loss of data with index_col=False.\n",
      "  data = pd.read_csv(os.path.join(root, file),index_col=False)\n"
     ]
    },
    {
     "name": "stdout",
     "output_type": "stream",
     "text": [
      "viirs_m20171.csv\n",
      "80736\n",
      "viirs_m20175.csv\n",
      "178906\n",
      "viirs_m20174.csv\n"
     ]
    },
    {
     "name": "stderr",
     "output_type": "stream",
     "text": [
      "/var/folders/lx/48nrsg4n38b36nwmsqwzzqxh0000gn/T/ipykernel_14519/627052007.py:10: ParserWarning: Length of header or names does not match length of data. This leads to a loss of data with index_col=False.\n",
      "  data = pd.read_csv(os.path.join(root, file),index_col=False)\n",
      "/var/folders/lx/48nrsg4n38b36nwmsqwzzqxh0000gn/T/ipykernel_14519/627052007.py:10: ParserWarning: Length of header or names does not match length of data. This leads to a loss of data with index_col=False.\n",
      "  data = pd.read_csv(os.path.join(root, file),index_col=False)\n"
     ]
    },
    {
     "name": "stdout",
     "output_type": "stream",
     "text": [
      "407672\n",
      "viirs_m20176.csv\n"
     ]
    },
    {
     "name": "stderr",
     "output_type": "stream",
     "text": [
      "/var/folders/lx/48nrsg4n38b36nwmsqwzzqxh0000gn/T/ipykernel_14519/627052007.py:10: ParserWarning: Length of header or names does not match length of data. This leads to a loss of data with index_col=False.\n",
      "  data = pd.read_csv(os.path.join(root, file),index_col=False)\n"
     ]
    },
    {
     "name": "stdout",
     "output_type": "stream",
     "text": [
      "397219\n",
      "viirs_m20177.csv\n"
     ]
    },
    {
     "name": "stderr",
     "output_type": "stream",
     "text": [
      "/var/folders/lx/48nrsg4n38b36nwmsqwzzqxh0000gn/T/ipykernel_14519/627052007.py:10: ParserWarning: Length of header or names does not match length of data. This leads to a loss of data with index_col=False.\n",
      "  data = pd.read_csv(os.path.join(root, file),index_col=False)\n"
     ]
    },
    {
     "name": "stdout",
     "output_type": "stream",
     "text": [
      "608718\n",
      "viirs_m201710.csv\n"
     ]
    },
    {
     "name": "stderr",
     "output_type": "stream",
     "text": [
      "/var/folders/lx/48nrsg4n38b36nwmsqwzzqxh0000gn/T/ipykernel_14519/627052007.py:10: ParserWarning: Length of header or names does not match length of data. This leads to a loss of data with index_col=False.\n",
      "  data = pd.read_csv(os.path.join(root, file),index_col=False)\n"
     ]
    },
    {
     "name": "stdout",
     "output_type": "stream",
     "text": [
      "377600\n",
      "viirs_m201711.csv\n"
     ]
    },
    {
     "name": "stderr",
     "output_type": "stream",
     "text": [
      "/var/folders/lx/48nrsg4n38b36nwmsqwzzqxh0000gn/T/ipykernel_14519/627052007.py:10: ParserWarning: Length of header or names does not match length of data. This leads to a loss of data with index_col=False.\n",
      "  data = pd.read_csv(os.path.join(root, file),index_col=False)\n"
     ]
    },
    {
     "name": "stdout",
     "output_type": "stream",
     "text": [
      "317934\n",
      "viirs_m20179.csv\n"
     ]
    },
    {
     "name": "stderr",
     "output_type": "stream",
     "text": [
      "/var/folders/lx/48nrsg4n38b36nwmsqwzzqxh0000gn/T/ipykernel_14519/627052007.py:10: ParserWarning: Length of header or names does not match length of data. This leads to a loss of data with index_col=False.\n",
      "  data = pd.read_csv(os.path.join(root, file),index_col=False)\n"
     ]
    },
    {
     "name": "stdout",
     "output_type": "stream",
     "text": [
      "278216\n",
      "viirs_m20178.csv\n"
     ]
    },
    {
     "name": "stderr",
     "output_type": "stream",
     "text": [
      "/var/folders/lx/48nrsg4n38b36nwmsqwzzqxh0000gn/T/ipykernel_14519/627052007.py:10: ParserWarning: Length of header or names does not match length of data. This leads to a loss of data with index_col=False.\n",
      "  data = pd.read_csv(os.path.join(root, file),index_col=False)\n"
     ]
    },
    {
     "name": "stdout",
     "output_type": "stream",
     "text": [
      "702938\n",
      "viirs_m201712.csv\n",
      "207234\n"
     ]
    },
    {
     "name": "stderr",
     "output_type": "stream",
     "text": [
      "/var/folders/lx/48nrsg4n38b36nwmsqwzzqxh0000gn/T/ipykernel_14519/627052007.py:10: ParserWarning: Length of header or names does not match length of data. This leads to a loss of data with index_col=False.\n",
      "  data = pd.read_csv(os.path.join(root, file),index_col=False)\n"
     ]
    }
   ],
   "source": [
    "data_year = 2017\n",
    "month_data_root = \"/Users/zwy/Library/CloudStorage/Dropbox/work files/Policy impact on fire/VIIRS {}\".format(data_year)\n",
    "\n",
    "data_aggregate = pd.DataFrame([])\n",
    "for root, _, files in os.walk(month_data_root):\n",
    "    for file in files:\n",
    "        if \"viirs_m\" not in file:\n",
    "            continue\n",
    "        print(file)\n",
    "        data = pd.read_csv(os.path.join(root, file),index_col=False)\n",
    "        print(len(data))\n",
    "        if data_aggregate.empty:\n",
    "            data_aggregate = copy.deepcopy(data)\n",
    "        else:\n",
    "\n",
    "            data_aggregate = pd.concat([data_aggregate, data], axis=0, ignore_index=True)\n",
    "            # data_aggregate = data_aggregate.append(data, ignore_index=True)\n"
   ]
  },
  {
   "cell_type": "code",
   "execution_count": 3,
   "metadata": {},
   "outputs": [
    {
     "name": "stdout",
     "output_type": "stream",
     "text": [
      "<class 'pandas.core.frame.DataFrame'>\n",
      "RangeIndex: 3933525 entries, 0 to 3933524\n",
      "Data columns (total 9 columns):\n",
      " #   Column      Dtype  \n",
      "---  ------      -----  \n",
      " 0   id          int64  \n",
      " 1   lon         float64\n",
      " 2   lat         float64\n",
      " 3   date        object \n",
      " 4   time        int64  \n",
      " 5   brightness  float64\n",
      " 6   satellite   object \n",
      " 7   confidence  object \n",
      " 8    version    object \n",
      "dtypes: float64(3), int64(2), object(4)\n",
      "memory usage: 270.1+ MB\n",
      "None\n",
      "<class 'pandas.core.frame.DataFrame'>\n",
      "RangeIndex: 3933525 entries, 0 to 3933524\n",
      "Data columns (total 7 columns):\n",
      " #   Column      Dtype  \n",
      "---  ------      -----  \n",
      " 0   id          int64  \n",
      " 1   lon         float64\n",
      " 2   lat         float64\n",
      " 3   date        object \n",
      " 4   time        int64  \n",
      " 5   brightness  float64\n",
      " 6   confidence  object \n",
      "dtypes: float64(3), int64(2), object(2)\n",
      "memory usage: 210.1+ MB\n"
     ]
    }
   ],
   "source": [
    "\n",
    "data_aggregate.rename(columns={\" lon\": \"lon\", \" lat\": \"lat\", \" date\":\"date\", \" time\":\"time\", \" brightness\":\"brightness\"}, inplace=True)\n",
    "print(data_aggregate.info())\n",
    "# Keep only relevant columns\n",
    "fire_df = data_aggregate.loc[:, (\"id\", \"lon\", \"lat\", \"date\", \"time\", \"brightness\", \"confidence\")]\n",
    "fire_df.info()\n",
    "\n",
    "fire_df.to_csv(os.path.join(\"/Users/zwy/Library/CloudStorage/Dropbox/work files/Policy impact on fire\", \"VIIRS_{}_all.csv\".format(data_year)))\n"
   ]
  }
 ],
 "metadata": {
  "kernelspec": {
   "display_name": "base",
   "language": "python",
   "name": "python3"
  },
  "language_info": {
   "codemirror_mode": {
    "name": "ipython",
    "version": 3
   },
   "file_extension": ".py",
   "mimetype": "text/x-python",
   "name": "python",
   "nbconvert_exporter": "python",
   "pygments_lexer": "ipython3",
   "version": "3.9.13"
  },
  "orig_nbformat": 4
 },
 "nbformat": 4,
 "nbformat_minor": 2
}
